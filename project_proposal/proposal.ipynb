{
 "cells": [
  {
   "cell_type": "markdown",
   "id": "7ef9df76",
   "metadata": {
    "tags": []
   },
   "source": [
    "**Introduction**\n",
    "\n",
    "Frauds are a serious issue in our society and can have devastating impacts on the economy if went unnoticed.\n",
    "\n",
    "This is where the task of auditors becomes of great significance. Audits are impartial, thorough inspections of companies’ reported financial statements with the ultimate goal of verifying their accuracy. The auditor then makes a judgment to determine whether the claims have been reported in good faith and are error-free or have been misrepresented in one form or another.\n",
    "\n",
    "Financial claims are created internally by the firm itself and so the risk of mis-statements whether due to unintended accounting errors or deliberate manipulation by the company itself is very much extant. Manipulations of financial claims are made by fraudulent firms to make their company seem \"better\" than what it actually is. Some examples of this include but are not limited to : overstating their revenues to encourage investors to invest into their company.\n",
    "\n",
    "Therefore, it goes without saying that an auditor's job is a very meticulous one and thus auditing offices have started looking into machine-based learning algorithms that aids auditors in making the correct judgment on the possibility of fraud existing within a company's financial claims.\n",
    "\n",
    "The question that we will try to address is as follows:\n",
    "\n",
    "Has a given company resorted to fraud given various data that can be used as predictor variables in our k-nearest neighbor classification algorithm?\n",
    "\n",
    "The dataset that will be used to train our classification model is one that stores one year's worth of non-confidential data (2015-2016) of various firms collected from the Audit Office of India.\n",
    "\n",
    "**Preliminary exploratory data analysis**"
   ]
  },
  {
   "cell_type": "code",
   "execution_count": null,
   "id": "100a959c",
   "metadata": {},
   "outputs": [],
   "source": [
    "library(tidyverse)\n",
    "library(tidymodels)\n",
    "library(repr)\n",
    "set.seed(3500)\n",
    "\n",
    "\n",
    "url <- \"https://archive.ics.uci.edu/ml/machine-learning-databases/00475/audit_data.zip\"\n",
    "download.file(url, \"audit_data.zip\")\n",
    "unzip(\"audit_data.zip\")\n",
    "\n",
    "\n",
    "audit_data <- read.csv(\"audit_risk.csv\") |>\n",
    "mutate(Risk = as_factor(Risk)) |>\n",
    "glimpse() \n",
    "\n",
    "\n",
    "\n",
    "audit_split <- initial_split(audit_data, prop = 0.7, strata = Risk) \n",
    "audit_training <- training(audit_split)\n",
    "audit_testing <- testing(audit_split)\n",
    "\n",
    "\n",
    "audit_training |>\n",
    "group_by(Risk) |>\n",
    "summarize(count = n())\n",
    "\n",
    "\n",
    "\n",
    "audit_training |>\n",
    "select(Inherent_Risk, Audit_Risk, TOTAL, Money_Value) |> \n",
    "map(mean, na.rm = TRUE) \n",
    "\n",
    "\n",
    "\n",
    "options(repr.plot.width = 15, repr.plot.height = 15)\n",
    "\n",
    "\n",
    "audit_visual <- audit_training |> \n",
    "ggplot(aes(x = Audit_Risk, y = Inherent_Risk, color = Risk)) +\n",
    "geom_point(alpha = 0.5) + \n",
    "labs(x = \"Inherent risk of the sector\", y = \"audit risk of the sector\", color = \"fraud risk (1) or no risk (0)\") +\n",
    "ggtitle(\"Figure 1 : Inherent Risk vs Audit Risk colored by Risk Factor\") +\n",
    "scale_x_log10(labels = comma) +\n",
    "scale_y_log10(labels = comma) +\n",
    "theme(text = element_text(size = 22))\n",
    "\n",
    "\n",
    "audit_visual\n"
   ]
  },
  {
   "cell_type": "markdown",
   "id": "10fc14d8",
   "metadata": {
    "tags": []
   },
   "source": [
    "**Methods**\n",
    "\n",
    "The analysis will be conducted by first tuning our classification model using 5-fold cross validation to assess the accuracy for each value of numbers of neighbors \"K\" in a reasonable range. This will in turn help in our parameter selection. \n",
    "\n",
    "Performing cross validation ensures that any one lucky / unlucky validation set does not influence the reported accuracy too much by taking an average of the accuracy values across the different folds of the training data, each with a distinct validation set.\n",
    "\n",
    "To assess the quality of our classifier on unseen data (testing set), we will retrain our model on the entire training set and use the already determined K value as the parameter. The accuracy of the model will then be scrutinized and determined if it is accurate enough for the context of its application.\n",
    "\n",
    "The four predictor variables were chosen after critical analysis of their meanings. For example, inherent risk is the risk of financial misstatements that is caused by a factor other than simple unintended accounting errors. A struggling company would be more incentivized to misreport their financial state in order to save face, possessing a higher inherent risk.\n"
   ]
  },
  {
   "cell_type": "markdown",
   "id": "3f3b1463-7816-4b5d-b68e-d59b3adc2b11",
   "metadata": {},
   "source": [
    "**Expected Outcomes and Significance**\n",
    "\n",
    "**Expected Findings:**\n",
    "\n",
    "The ultimate finding of this analysis is a prediction denoting whether a given company is associated with fraud represented by a score of 1 (fraudulent) or 0 (not fraudulent).\n",
    "\n",
    "\n",
    "**Impact:**\n",
    "\n",
    "The impact of such finding is huge and can potentially emancipate global economies and individuals worldwide from financial strains imposed by fraudulent activities. It is estimated that a total of $5.7 trillion is lost on a global scale due to misrepresentation of financial statements by companies going unnoticed. Developing an accurate algorithm that can detect fraud behind the scenes of a company can significantly alleviate this astronomic financial loss.\n",
    "\n",
    "\n",
    "**Future Questions:**\n",
    "\n",
    "A pertaining future question is the extent to which machine-based algorithms taking over audit offices can aid in reducing fraud worldwide? Namely, what is the percentage decrease in financial loss arising from fraud compared to times before the emergence of predictor models in the auditing industry?\n"
   ]
  }
 ],
 "metadata": {
  "kernelspec": {
   "display_name": "R",
   "language": "R",
   "name": "ir"
  },
  "language_info": {
   "codemirror_mode": "r",
   "file_extension": ".r",
   "mimetype": "text/x-r-source",
   "name": "R",
   "pygments_lexer": "r",
   "version": "4.1.3"
  }
 },
 "nbformat": 4,
 "nbformat_minor": 5
}
