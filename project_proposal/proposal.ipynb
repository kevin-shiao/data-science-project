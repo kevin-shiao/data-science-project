{
 "cells": [
  {
   "cell_type": "markdown",
   "id": "d90f8202-080f-467f-942d-a6c83f1c133f",
   "metadata": {
    "tags": []
   },
   "source": [
    "Introduction\n",
    "\n",
    "Frauds are a serious issue in our society and can have devastating impacts on the economy if went unnoticed. \n",
    "\n",
    "This is where the task of auditors becomes of great significance. Audits are impartial, thorough inspections of companies'reported financial statements performed by authorized auditors with the ultimate goal of verifying their accuracy. The auditor then makes a final judgement taking into consideration various factors such as previous records of the company and their reputation history to determine whether they've been reported in good faith and are error-free, representing the exact financial state of the company or have been misrepresented in one form or another. \n",
    "\n",
    "Financial claims are created internally by the firm itself and so the risk of mis-statements whether it being due to mere errors while making the report or deliberate manipulation by the company itself is very much extant. Manipulations of financial claims are made by fraudulent firms to make their company seem \"better\" than what it actually. Some examples of this include but are not limited to : overstating their revenues and assets and understating their yearly losses to encourage investors to invest into their company. \n",
    "\n",
    "With all the above considered, it goes without saying that an auditor's job is a very meticulous one and thus auditing offices have started looking into machine-learning algorithms that aids auditors in making the correct judgement on the possibility of fraud existing within a company's reported financial claims. The goal of this project is to create a k-nearest neighbor classifical model that can accurately predict the risk levels of a company being associated with fraud. \n",
    "\n",
    "The question that we will try to address in this analysis is as follows: \n",
    "\n",
    "Is a given company suspicious of fraud or not given various data that can be used as predictor variables in our algorithm?\n",
    "\n",
    "The dataset that will be used to train our classification model is one that stores one year's worth of non-confidential data (2015-2016) of various firms collected from the Audit Office of India. \n",
    "\n"
   ]
  },
  {
   "cell_type": "code",
   "execution_count": 13,
   "id": "db16112d-e6b9-488c-9f7a-ad2ae4a215e5",
   "metadata": {},
   "outputs": [
    {
     "name": "stderr",
     "output_type": "stream",
     "text": [
      "\u001b[1m\u001b[22mNew names:\n",
      "\u001b[36m•\u001b[39m `Score_B` -> `Score_B...7`\n",
      "\u001b[36m•\u001b[39m `Score_B` -> `Score_B...11`\n",
      "\u001b[1mRows: \u001b[22m\u001b[34m776\u001b[39m \u001b[1mColumns: \u001b[22m\u001b[34m27\u001b[39m\n",
      "\u001b[36m──\u001b[39m \u001b[1mColumn specification\u001b[22m \u001b[36m────────────────────────────────────────────────────────\u001b[39m\n",
      "\u001b[1mDelimiter:\u001b[22m \",\"\n",
      "\u001b[31mchr\u001b[39m  (1): LOCATION_ID\n",
      "\u001b[32mdbl\u001b[39m (26): Sector_score, PARA_A, Score_A, Risk_A, PARA_B, Score_B...7, Risk_B...\n",
      "\n",
      "\u001b[36mℹ\u001b[39m Use `spec()` to retrieve the full column specification for this data.\n",
      "\u001b[36mℹ\u001b[39m Specify the column types or set `show_col_types = FALSE` to quiet this message.\n"
     ]
    },
    {
     "data": {
      "text/html": [
       "<table class=\"dataframe\">\n",
       "<caption>A tibble: 6 × 27</caption>\n",
       "<thead>\n",
       "\t<tr><th scope=col>Sector_score</th><th scope=col>LOCATION_ID</th><th scope=col>PARA_A</th><th scope=col>Score_A</th><th scope=col>Risk_A</th><th scope=col>PARA_B</th><th scope=col>Score_B...7</th><th scope=col>Risk_B</th><th scope=col>TOTAL</th><th scope=col>numbers</th><th scope=col>⋯</th><th scope=col>RiSk_E</th><th scope=col>History</th><th scope=col>Prob</th><th scope=col>Risk_F</th><th scope=col>Score</th><th scope=col>Inherent_Risk</th><th scope=col>CONTROL_RISK</th><th scope=col>Detection_Risk</th><th scope=col>Audit_Risk</th><th scope=col>Risk</th></tr>\n",
       "\t<tr><th scope=col>&lt;dbl&gt;</th><th scope=col>&lt;chr&gt;</th><th scope=col>&lt;dbl&gt;</th><th scope=col>&lt;dbl&gt;</th><th scope=col>&lt;dbl&gt;</th><th scope=col>&lt;dbl&gt;</th><th scope=col>&lt;dbl&gt;</th><th scope=col>&lt;dbl&gt;</th><th scope=col>&lt;dbl&gt;</th><th scope=col>&lt;dbl&gt;</th><th scope=col>⋯</th><th scope=col>&lt;dbl&gt;</th><th scope=col>&lt;dbl&gt;</th><th scope=col>&lt;dbl&gt;</th><th scope=col>&lt;dbl&gt;</th><th scope=col>&lt;dbl&gt;</th><th scope=col>&lt;dbl&gt;</th><th scope=col>&lt;dbl&gt;</th><th scope=col>&lt;dbl&gt;</th><th scope=col>&lt;dbl&gt;</th><th scope=col>&lt;dbl&gt;</th></tr>\n",
       "</thead>\n",
       "<tbody>\n",
       "\t<tr><td>3.89</td><td>23</td><td>4.18</td><td>0.6</td><td>2.508</td><td> 2.50</td><td>0.2</td><td>0.500</td><td> 6.68</td><td>5</td><td>⋯</td><td>0.4</td><td>0</td><td>0.2</td><td>0</td><td>2.4</td><td> 8.574</td><td>0.4</td><td>0.5</td><td>1.7148</td><td>1</td></tr>\n",
       "\t<tr><td>3.89</td><td>6 </td><td>0.00</td><td>0.2</td><td>0.000</td><td> 4.83</td><td>0.2</td><td>0.966</td><td> 4.83</td><td>5</td><td>⋯</td><td>0.4</td><td>0</td><td>0.2</td><td>0</td><td>2.0</td><td> 2.554</td><td>0.4</td><td>0.5</td><td>0.5108</td><td>0</td></tr>\n",
       "\t<tr><td>3.89</td><td>6 </td><td>0.51</td><td>0.2</td><td>0.102</td><td> 0.23</td><td>0.2</td><td>0.046</td><td> 0.74</td><td>5</td><td>⋯</td><td>0.4</td><td>0</td><td>0.2</td><td>0</td><td>2.0</td><td> 1.548</td><td>0.4</td><td>0.5</td><td>0.3096</td><td>0</td></tr>\n",
       "\t<tr><td>3.89</td><td>6 </td><td>0.00</td><td>0.2</td><td>0.000</td><td>10.80</td><td>0.6</td><td>6.480</td><td>10.80</td><td>6</td><td>⋯</td><td>0.4</td><td>0</td><td>0.2</td><td>0</td><td>4.4</td><td>17.530</td><td>0.4</td><td>0.5</td><td>3.5060</td><td>1</td></tr>\n",
       "\t<tr><td>3.89</td><td>6 </td><td>0.00</td><td>0.2</td><td>0.000</td><td> 0.08</td><td>0.2</td><td>0.016</td><td> 0.08</td><td>5</td><td>⋯</td><td>0.4</td><td>0</td><td>0.2</td><td>0</td><td>2.0</td><td> 1.416</td><td>0.4</td><td>0.5</td><td>0.2832</td><td>0</td></tr>\n",
       "\t<tr><td>3.89</td><td>6 </td><td>0.00</td><td>0.2</td><td>0.000</td><td> 0.83</td><td>0.2</td><td>0.166</td><td> 0.83</td><td>5</td><td>⋯</td><td>0.4</td><td>0</td><td>0.2</td><td>0</td><td>2.0</td><td> 2.156</td><td>0.4</td><td>0.5</td><td>0.4312</td><td>0</td></tr>\n",
       "</tbody>\n",
       "</table>\n"
      ],
      "text/latex": [
       "A tibble: 6 × 27\n",
       "\\begin{tabular}{lllllllllllllllllllll}\n",
       " Sector\\_score & LOCATION\\_ID & PARA\\_A & Score\\_A & Risk\\_A & PARA\\_B & Score\\_B...7 & Risk\\_B & TOTAL & numbers & ⋯ & RiSk\\_E & History & Prob & Risk\\_F & Score & Inherent\\_Risk & CONTROL\\_RISK & Detection\\_Risk & Audit\\_Risk & Risk\\\\\n",
       " <dbl> & <chr> & <dbl> & <dbl> & <dbl> & <dbl> & <dbl> & <dbl> & <dbl> & <dbl> & ⋯ & <dbl> & <dbl> & <dbl> & <dbl> & <dbl> & <dbl> & <dbl> & <dbl> & <dbl> & <dbl>\\\\\n",
       "\\hline\n",
       "\t 3.89 & 23 & 4.18 & 0.6 & 2.508 &  2.50 & 0.2 & 0.500 &  6.68 & 5 & ⋯ & 0.4 & 0 & 0.2 & 0 & 2.4 &  8.574 & 0.4 & 0.5 & 1.7148 & 1\\\\\n",
       "\t 3.89 & 6  & 0.00 & 0.2 & 0.000 &  4.83 & 0.2 & 0.966 &  4.83 & 5 & ⋯ & 0.4 & 0 & 0.2 & 0 & 2.0 &  2.554 & 0.4 & 0.5 & 0.5108 & 0\\\\\n",
       "\t 3.89 & 6  & 0.51 & 0.2 & 0.102 &  0.23 & 0.2 & 0.046 &  0.74 & 5 & ⋯ & 0.4 & 0 & 0.2 & 0 & 2.0 &  1.548 & 0.4 & 0.5 & 0.3096 & 0\\\\\n",
       "\t 3.89 & 6  & 0.00 & 0.2 & 0.000 & 10.80 & 0.6 & 6.480 & 10.80 & 6 & ⋯ & 0.4 & 0 & 0.2 & 0 & 4.4 & 17.530 & 0.4 & 0.5 & 3.5060 & 1\\\\\n",
       "\t 3.89 & 6  & 0.00 & 0.2 & 0.000 &  0.08 & 0.2 & 0.016 &  0.08 & 5 & ⋯ & 0.4 & 0 & 0.2 & 0 & 2.0 &  1.416 & 0.4 & 0.5 & 0.2832 & 0\\\\\n",
       "\t 3.89 & 6  & 0.00 & 0.2 & 0.000 &  0.83 & 0.2 & 0.166 &  0.83 & 5 & ⋯ & 0.4 & 0 & 0.2 & 0 & 2.0 &  2.156 & 0.4 & 0.5 & 0.4312 & 0\\\\\n",
       "\\end{tabular}\n"
      ],
      "text/markdown": [
       "\n",
       "A tibble: 6 × 27\n",
       "\n",
       "| Sector_score &lt;dbl&gt; | LOCATION_ID &lt;chr&gt; | PARA_A &lt;dbl&gt; | Score_A &lt;dbl&gt; | Risk_A &lt;dbl&gt; | PARA_B &lt;dbl&gt; | Score_B...7 &lt;dbl&gt; | Risk_B &lt;dbl&gt; | TOTAL &lt;dbl&gt; | numbers &lt;dbl&gt; | ⋯ ⋯ | RiSk_E &lt;dbl&gt; | History &lt;dbl&gt; | Prob &lt;dbl&gt; | Risk_F &lt;dbl&gt; | Score &lt;dbl&gt; | Inherent_Risk &lt;dbl&gt; | CONTROL_RISK &lt;dbl&gt; | Detection_Risk &lt;dbl&gt; | Audit_Risk &lt;dbl&gt; | Risk &lt;dbl&gt; |\n",
       "|---|---|---|---|---|---|---|---|---|---|---|---|---|---|---|---|---|---|---|---|---|\n",
       "| 3.89 | 23 | 4.18 | 0.6 | 2.508 |  2.50 | 0.2 | 0.500 |  6.68 | 5 | ⋯ | 0.4 | 0 | 0.2 | 0 | 2.4 |  8.574 | 0.4 | 0.5 | 1.7148 | 1 |\n",
       "| 3.89 | 6  | 0.00 | 0.2 | 0.000 |  4.83 | 0.2 | 0.966 |  4.83 | 5 | ⋯ | 0.4 | 0 | 0.2 | 0 | 2.0 |  2.554 | 0.4 | 0.5 | 0.5108 | 0 |\n",
       "| 3.89 | 6  | 0.51 | 0.2 | 0.102 |  0.23 | 0.2 | 0.046 |  0.74 | 5 | ⋯ | 0.4 | 0 | 0.2 | 0 | 2.0 |  1.548 | 0.4 | 0.5 | 0.3096 | 0 |\n",
       "| 3.89 | 6  | 0.00 | 0.2 | 0.000 | 10.80 | 0.6 | 6.480 | 10.80 | 6 | ⋯ | 0.4 | 0 | 0.2 | 0 | 4.4 | 17.530 | 0.4 | 0.5 | 3.5060 | 1 |\n",
       "| 3.89 | 6  | 0.00 | 0.2 | 0.000 |  0.08 | 0.2 | 0.016 |  0.08 | 5 | ⋯ | 0.4 | 0 | 0.2 | 0 | 2.0 |  1.416 | 0.4 | 0.5 | 0.2832 | 0 |\n",
       "| 3.89 | 6  | 0.00 | 0.2 | 0.000 |  0.83 | 0.2 | 0.166 |  0.83 | 5 | ⋯ | 0.4 | 0 | 0.2 | 0 | 2.0 |  2.156 | 0.4 | 0.5 | 0.4312 | 0 |\n",
       "\n"
      ],
      "text/plain": [
       "  Sector_score LOCATION_ID PARA_A Score_A Risk_A PARA_B Score_B...7 Risk_B\n",
       "1 3.89         23          4.18   0.6     2.508   2.50  0.2         0.500 \n",
       "2 3.89         6           0.00   0.2     0.000   4.83  0.2         0.966 \n",
       "3 3.89         6           0.51   0.2     0.102   0.23  0.2         0.046 \n",
       "4 3.89         6           0.00   0.2     0.000  10.80  0.6         6.480 \n",
       "5 3.89         6           0.00   0.2     0.000   0.08  0.2         0.016 \n",
       "6 3.89         6           0.00   0.2     0.000   0.83  0.2         0.166 \n",
       "  TOTAL numbers ⋯ RiSk_E History Prob Risk_F Score Inherent_Risk CONTROL_RISK\n",
       "1  6.68 5       ⋯ 0.4    0       0.2  0      2.4    8.574        0.4         \n",
       "2  4.83 5       ⋯ 0.4    0       0.2  0      2.0    2.554        0.4         \n",
       "3  0.74 5       ⋯ 0.4    0       0.2  0      2.0    1.548        0.4         \n",
       "4 10.80 6       ⋯ 0.4    0       0.2  0      4.4   17.530        0.4         \n",
       "5  0.08 5       ⋯ 0.4    0       0.2  0      2.0    1.416        0.4         \n",
       "6  0.83 5       ⋯ 0.4    0       0.2  0      2.0    2.156        0.4         \n",
       "  Detection_Risk Audit_Risk Risk\n",
       "1 0.5            1.7148     1   \n",
       "2 0.5            0.5108     0   \n",
       "3 0.5            0.3096     0   \n",
       "4 0.5            3.5060     1   \n",
       "5 0.5            0.2832     0   \n",
       "6 0.5            0.4312     0   "
      ]
     },
     "metadata": {},
     "output_type": "display_data"
    }
   ],
   "source": [
    "library(tidyverse)\n",
    "\n",
    "audit_data <- read_csv(\"project_proposal/audit_risk.csv\")\n",
    "\n",
    "head(audit_data)\n",
    "\n",
    "\n"
   ]
  },
  {
   "cell_type": "markdown",
   "id": "0be54dc0-d84d-47fd-b1af-057256ebfa50",
   "metadata": {},
   "source": [
    "Expected Findings:\n",
    "\n",
    "The ultimate finding of this analysis is a prediction of the risk of a given company being associated with fraud represented by a score of 1 (fraudulent) or 0 (not fraudulent). \n",
    "\n",
    "Impact:\n",
    "\n",
    "The impact of such finding is huge and potentially can emancipate global economies worldwide from financial strains imposed by fraudulent activities. It is estimated that a total of $5.7 trillion is lost on a global scale due to misrepresentation of financial statements by companies going unnoticed. Developing an accurate algorithm that can detect fraud behind the scenes of a company can significantly alleviate this astronomic financial loss. \n",
    "\n",
    "\n",
    "Future Questions:\n",
    "\n",
    "A pertaining future question is the extent to which machine-based algorithms taking over audit offices can aid in reducing fraud worldwide? Will there be 20%, 50%, 75% less financial loss arising from fraud compared to times before the emergence of predictor models in auditing industry or will it be of no significant help? \n",
    "\n",
    "\n",
    "\n"
   ]
  }
 ],
 "metadata": {
  "kernelspec": {
   "display_name": "R",
   "language": "R",
   "name": "ir"
  },
  "language_info": {
   "codemirror_mode": "r",
   "file_extension": ".r",
   "mimetype": "text/x-r-source",
   "name": "R",
   "pygments_lexer": "r",
   "version": "4.1.3"
  }
 },
 "nbformat": 4,
 "nbformat_minor": 5
}
